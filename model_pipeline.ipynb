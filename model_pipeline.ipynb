{
  "nbformat": 4,
  "nbformat_minor": 0,
  "metadata": {
    "colab": {
      "provenance": [],
      "gpuType": "T4"
    },
    "kernelspec": {
      "name": "python3",
      "display_name": "Python 3"
    },
    "language_info": {
      "name": "python"
    },
    "accelerator": "GPU"
  },
  "cells": [
    {
      "cell_type": "code",
      "execution_count": null,
      "metadata": {
        "colab": {
          "base_uri": "https://localhost:8080/"
        },
        "id": "RYBOPLt6B1ak",
        "outputId": "6f9e35b4-e900-4880-d0b7-6be653316c3b"
      },
      "outputs": [
        {
          "output_type": "stream",
          "name": "stdout",
          "text": [
            "Mounted at /content/drive\n"
          ]
        }
      ],
      "source": [
        "from google.colab import drive\n",
        "drive.mount('/content/drive')"
      ]
    },
    {
      "cell_type": "code",
      "source": [
        "import pandas as pd\n",
        "import numpy as np\n",
        "\n",
        "import os\n",
        "import sys\n",
        "\n",
        "# librosa is a Python library for analyzing audio and music. It can be used to extract the data from the audio files we will see it later.\n",
        "import librosa\n",
        "import librosa.display\n",
        "import seaborn as sns\n",
        "import matplotlib.pyplot as plt\n",
        "\n",
        "from sklearn.preprocessing import StandardScaler, OneHotEncoder\n",
        "from sklearn.metrics import confusion_matrix, classification_report\n",
        "from sklearn.model_selection import train_test_split\n",
        "# to play the audio files\n",
        "from IPython.display import Audio\n",
        "\n",
        "import keras\n",
        "from keras.callbacks import ReduceLROnPlateau\n",
        "from keras.models import Sequential\n",
        "from keras.layers import Dense, Conv1D, MaxPooling1D, Flatten, Dropout, BatchNormalization\n",
        "# from keras.utils import np_utils, to_categorical # this line was changed\n",
        "from keras.utils import to_categorical # this line was added\n",
        "from keras.callbacks import ModelCheckpoint\n",
        "\n",
        "import warnings\n",
        "if not sys.warnoptions:\n",
        "  warnings.simplefilter(\"ignore\")\n",
        "warnings.filterwarnings(\"ignore\", category=DeprecationWarning)"
      ],
      "metadata": {
        "id": "GxCNKSqAB4mu"
      },
      "execution_count": null,
      "outputs": []
    },
    {
      "cell_type": "code",
      "source": [
        "dataset=pd.read_csv(\"/content/updated_data_with_mugging.csv\")"
      ],
      "metadata": {
        "id": "rScUV3g0CJcx"
      },
      "execution_count": null,
      "outputs": []
    },
    {
      "cell_type": "code",
      "source": [
        "from scipy.signal import resample\n",
        "def noise(data):\n",
        "    noise_amp = 0.035*np.random.uniform()*np.amax(data)\n",
        "    data = data + noise_amp*np.random.normal(size=data.shape[0])\n",
        "    return data\n",
        "\n",
        "def stretch(data, rate=0.8):\n",
        "    number_of_samples = int(len(data) / rate)\n",
        "    stretched_data = resample(data, number_of_samples)\n",
        "    return stretched_data\n",
        "\n",
        "def shift(data):\n",
        "    shift_range = int(np.random.uniform(low=-5, high = 5)*1000)\n",
        "    return np.roll(data, shift_range)\n",
        "\n",
        "\n",
        "# taking any example and checking for techniques.\n",
        "path = np.array(dataset.Path)[1]\n",
        "data, sample_rate = librosa.load(path)"
      ],
      "metadata": {
        "id": "BhUg10t4CCxH"
      },
      "execution_count": null,
      "outputs": []
    },
    {
      "cell_type": "code",
      "source": [
        "def extract_features(data):\n",
        "    # ZCR\n",
        "    result = np.array([])\n",
        "    zcr = np.mean(librosa.feature.zero_crossing_rate(y=data).T, axis=0)\n",
        "    result=np.hstack((result, zcr)) # stacking horizontally\n",
        "\n",
        "    # Chroma_stft\n",
        "    stft = np.abs(librosa.stft(data))\n",
        "    chroma_stft = np.mean(librosa.feature.chroma_stft(S=stft, sr=sample_rate).T, axis=0)\n",
        "    result = np.hstack((result, chroma_stft)) # stacking horizontally\n",
        "\n",
        "    # MFCC\n",
        "    mfcc = np.mean(librosa.feature.mfcc(y=data, sr=sample_rate).T, axis=0)\n",
        "    result = np.hstack((result, mfcc)) # stacking horizontally\n",
        "\n",
        "    # Root Mean Square Value\n",
        "    rms = np.mean(librosa.feature.rms(y=data).T, axis=0)\n",
        "    result = np.hstack((result, rms)) # stacking horizontally\n",
        "\n",
        "    # MelSpectogram\n",
        "    mel = np.mean(librosa.feature.melspectrogram(y=data, sr=sample_rate).T, axis=0)\n",
        "    result = np.hstack((result, mel)) # stacking horizontally\n",
        "\n",
        "    return result"
      ],
      "metadata": {
        "id": "y2JtEN_-CTso"
      },
      "execution_count": null,
      "outputs": []
    },
    {
      "cell_type": "code",
      "source": [
        "dataset.head()"
      ],
      "metadata": {
        "colab": {
          "base_uri": "https://localhost:8080/",
          "height": 206
        },
        "id": "uFXx7rH1V4So",
        "outputId": "aa33e7de-3290-4323-b08d-62be09237013"
      },
      "execution_count": null,
      "outputs": [
        {
          "output_type": "execute_result",
          "data": {
            "text/plain": [
              "      Emotions                                               Path\n",
              "0  not mugging  /content/drive/MyDrive/RAVDESS/audio_speech_ac...\n",
              "1  not mugging  /content/drive/MyDrive/RAVDESS/audio_speech_ac...\n",
              "2  not mugging  /content/drive/MyDrive/RAVDESS/audio_speech_ac...\n",
              "3  not mugging  /content/drive/MyDrive/RAVDESS/audio_speech_ac...\n",
              "4      mugging  /content/drive/MyDrive/RAVDESS/audio_speech_ac..."
            ],
            "text/html": [
              "\n",
              "  <div id=\"df-87b0c72b-fe20-41d1-ba51-d0d80121f934\" class=\"colab-df-container\">\n",
              "    <div>\n",
              "<style scoped>\n",
              "    .dataframe tbody tr th:only-of-type {\n",
              "        vertical-align: middle;\n",
              "    }\n",
              "\n",
              "    .dataframe tbody tr th {\n",
              "        vertical-align: top;\n",
              "    }\n",
              "\n",
              "    .dataframe thead th {\n",
              "        text-align: right;\n",
              "    }\n",
              "</style>\n",
              "<table border=\"1\" class=\"dataframe\">\n",
              "  <thead>\n",
              "    <tr style=\"text-align: right;\">\n",
              "      <th></th>\n",
              "      <th>Emotions</th>\n",
              "      <th>Path</th>\n",
              "    </tr>\n",
              "  </thead>\n",
              "  <tbody>\n",
              "    <tr>\n",
              "      <th>0</th>\n",
              "      <td>not mugging</td>\n",
              "      <td>/content/drive/MyDrive/RAVDESS/audio_speech_ac...</td>\n",
              "    </tr>\n",
              "    <tr>\n",
              "      <th>1</th>\n",
              "      <td>not mugging</td>\n",
              "      <td>/content/drive/MyDrive/RAVDESS/audio_speech_ac...</td>\n",
              "    </tr>\n",
              "    <tr>\n",
              "      <th>2</th>\n",
              "      <td>not mugging</td>\n",
              "      <td>/content/drive/MyDrive/RAVDESS/audio_speech_ac...</td>\n",
              "    </tr>\n",
              "    <tr>\n",
              "      <th>3</th>\n",
              "      <td>not mugging</td>\n",
              "      <td>/content/drive/MyDrive/RAVDESS/audio_speech_ac...</td>\n",
              "    </tr>\n",
              "    <tr>\n",
              "      <th>4</th>\n",
              "      <td>mugging</td>\n",
              "      <td>/content/drive/MyDrive/RAVDESS/audio_speech_ac...</td>\n",
              "    </tr>\n",
              "  </tbody>\n",
              "</table>\n",
              "</div>\n",
              "    <div class=\"colab-df-buttons\">\n",
              "\n",
              "  <div class=\"colab-df-container\">\n",
              "    <button class=\"colab-df-convert\" onclick=\"convertToInteractive('df-87b0c72b-fe20-41d1-ba51-d0d80121f934')\"\n",
              "            title=\"Convert this dataframe to an interactive table.\"\n",
              "            style=\"display:none;\">\n",
              "\n",
              "  <svg xmlns=\"http://www.w3.org/2000/svg\" height=\"24px\" viewBox=\"0 -960 960 960\">\n",
              "    <path d=\"M120-120v-720h720v720H120Zm60-500h600v-160H180v160Zm220 220h160v-160H400v160Zm0 220h160v-160H400v160ZM180-400h160v-160H180v160Zm440 0h160v-160H620v160ZM180-180h160v-160H180v160Zm440 0h160v-160H620v160Z\"/>\n",
              "  </svg>\n",
              "    </button>\n",
              "\n",
              "  <style>\n",
              "    .colab-df-container {\n",
              "      display:flex;\n",
              "      gap: 12px;\n",
              "    }\n",
              "\n",
              "    .colab-df-convert {\n",
              "      background-color: #E8F0FE;\n",
              "      border: none;\n",
              "      border-radius: 50%;\n",
              "      cursor: pointer;\n",
              "      display: none;\n",
              "      fill: #1967D2;\n",
              "      height: 32px;\n",
              "      padding: 0 0 0 0;\n",
              "      width: 32px;\n",
              "    }\n",
              "\n",
              "    .colab-df-convert:hover {\n",
              "      background-color: #E2EBFA;\n",
              "      box-shadow: 0px 1px 2px rgba(60, 64, 67, 0.3), 0px 1px 3px 1px rgba(60, 64, 67, 0.15);\n",
              "      fill: #174EA6;\n",
              "    }\n",
              "\n",
              "    .colab-df-buttons div {\n",
              "      margin-bottom: 4px;\n",
              "    }\n",
              "\n",
              "    [theme=dark] .colab-df-convert {\n",
              "      background-color: #3B4455;\n",
              "      fill: #D2E3FC;\n",
              "    }\n",
              "\n",
              "    [theme=dark] .colab-df-convert:hover {\n",
              "      background-color: #434B5C;\n",
              "      box-shadow: 0px 1px 3px 1px rgba(0, 0, 0, 0.15);\n",
              "      filter: drop-shadow(0px 1px 2px rgba(0, 0, 0, 0.3));\n",
              "      fill: #FFFFFF;\n",
              "    }\n",
              "  </style>\n",
              "\n",
              "    <script>\n",
              "      const buttonEl =\n",
              "        document.querySelector('#df-87b0c72b-fe20-41d1-ba51-d0d80121f934 button.colab-df-convert');\n",
              "      buttonEl.style.display =\n",
              "        google.colab.kernel.accessAllowed ? 'block' : 'none';\n",
              "\n",
              "      async function convertToInteractive(key) {\n",
              "        const element = document.querySelector('#df-87b0c72b-fe20-41d1-ba51-d0d80121f934');\n",
              "        const dataTable =\n",
              "          await google.colab.kernel.invokeFunction('convertToInteractive',\n",
              "                                                    [key], {});\n",
              "        if (!dataTable) return;\n",
              "\n",
              "        const docLinkHtml = 'Like what you see? Visit the ' +\n",
              "          '<a target=\"_blank\" href=https://colab.research.google.com/notebooks/data_table.ipynb>data table notebook</a>'\n",
              "          + ' to learn more about interactive tables.';\n",
              "        element.innerHTML = '';\n",
              "        dataTable['output_type'] = 'display_data';\n",
              "        await google.colab.output.renderOutput(dataTable, element);\n",
              "        const docLink = document.createElement('div');\n",
              "        docLink.innerHTML = docLinkHtml;\n",
              "        element.appendChild(docLink);\n",
              "      }\n",
              "    </script>\n",
              "  </div>\n",
              "\n",
              "\n",
              "<div id=\"df-df14011b-10a7-4ae6-86aa-2d76c42da448\">\n",
              "  <button class=\"colab-df-quickchart\" onclick=\"quickchart('df-df14011b-10a7-4ae6-86aa-2d76c42da448')\"\n",
              "            title=\"Suggest charts\"\n",
              "            style=\"display:none;\">\n",
              "\n",
              "<svg xmlns=\"http://www.w3.org/2000/svg\" height=\"24px\"viewBox=\"0 0 24 24\"\n",
              "     width=\"24px\">\n",
              "    <g>\n",
              "        <path d=\"M19 3H5c-1.1 0-2 .9-2 2v14c0 1.1.9 2 2 2h14c1.1 0 2-.9 2-2V5c0-1.1-.9-2-2-2zM9 17H7v-7h2v7zm4 0h-2V7h2v10zm4 0h-2v-4h2v4z\"/>\n",
              "    </g>\n",
              "</svg>\n",
              "  </button>\n",
              "\n",
              "<style>\n",
              "  .colab-df-quickchart {\n",
              "      --bg-color: #E8F0FE;\n",
              "      --fill-color: #1967D2;\n",
              "      --hover-bg-color: #E2EBFA;\n",
              "      --hover-fill-color: #174EA6;\n",
              "      --disabled-fill-color: #AAA;\n",
              "      --disabled-bg-color: #DDD;\n",
              "  }\n",
              "\n",
              "  [theme=dark] .colab-df-quickchart {\n",
              "      --bg-color: #3B4455;\n",
              "      --fill-color: #D2E3FC;\n",
              "      --hover-bg-color: #434B5C;\n",
              "      --hover-fill-color: #FFFFFF;\n",
              "      --disabled-bg-color: #3B4455;\n",
              "      --disabled-fill-color: #666;\n",
              "  }\n",
              "\n",
              "  .colab-df-quickchart {\n",
              "    background-color: var(--bg-color);\n",
              "    border: none;\n",
              "    border-radius: 50%;\n",
              "    cursor: pointer;\n",
              "    display: none;\n",
              "    fill: var(--fill-color);\n",
              "    height: 32px;\n",
              "    padding: 0;\n",
              "    width: 32px;\n",
              "  }\n",
              "\n",
              "  .colab-df-quickchart:hover {\n",
              "    background-color: var(--hover-bg-color);\n",
              "    box-shadow: 0 1px 2px rgba(60, 64, 67, 0.3), 0 1px 3px 1px rgba(60, 64, 67, 0.15);\n",
              "    fill: var(--button-hover-fill-color);\n",
              "  }\n",
              "\n",
              "  .colab-df-quickchart-complete:disabled,\n",
              "  .colab-df-quickchart-complete:disabled:hover {\n",
              "    background-color: var(--disabled-bg-color);\n",
              "    fill: var(--disabled-fill-color);\n",
              "    box-shadow: none;\n",
              "  }\n",
              "\n",
              "  .colab-df-spinner {\n",
              "    border: 2px solid var(--fill-color);\n",
              "    border-color: transparent;\n",
              "    border-bottom-color: var(--fill-color);\n",
              "    animation:\n",
              "      spin 1s steps(1) infinite;\n",
              "  }\n",
              "\n",
              "  @keyframes spin {\n",
              "    0% {\n",
              "      border-color: transparent;\n",
              "      border-bottom-color: var(--fill-color);\n",
              "      border-left-color: var(--fill-color);\n",
              "    }\n",
              "    20% {\n",
              "      border-color: transparent;\n",
              "      border-left-color: var(--fill-color);\n",
              "      border-top-color: var(--fill-color);\n",
              "    }\n",
              "    30% {\n",
              "      border-color: transparent;\n",
              "      border-left-color: var(--fill-color);\n",
              "      border-top-color: var(--fill-color);\n",
              "      border-right-color: var(--fill-color);\n",
              "    }\n",
              "    40% {\n",
              "      border-color: transparent;\n",
              "      border-right-color: var(--fill-color);\n",
              "      border-top-color: var(--fill-color);\n",
              "    }\n",
              "    60% {\n",
              "      border-color: transparent;\n",
              "      border-right-color: var(--fill-color);\n",
              "    }\n",
              "    80% {\n",
              "      border-color: transparent;\n",
              "      border-right-color: var(--fill-color);\n",
              "      border-bottom-color: var(--fill-color);\n",
              "    }\n",
              "    90% {\n",
              "      border-color: transparent;\n",
              "      border-bottom-color: var(--fill-color);\n",
              "    }\n",
              "  }\n",
              "</style>\n",
              "\n",
              "  <script>\n",
              "    async function quickchart(key) {\n",
              "      const quickchartButtonEl =\n",
              "        document.querySelector('#' + key + ' button');\n",
              "      quickchartButtonEl.disabled = true;  // To prevent multiple clicks.\n",
              "      quickchartButtonEl.classList.add('colab-df-spinner');\n",
              "      try {\n",
              "        const charts = await google.colab.kernel.invokeFunction(\n",
              "            'suggestCharts', [key], {});\n",
              "      } catch (error) {\n",
              "        console.error('Error during call to suggestCharts:', error);\n",
              "      }\n",
              "      quickchartButtonEl.classList.remove('colab-df-spinner');\n",
              "      quickchartButtonEl.classList.add('colab-df-quickchart-complete');\n",
              "    }\n",
              "    (() => {\n",
              "      let quickchartButtonEl =\n",
              "        document.querySelector('#df-df14011b-10a7-4ae6-86aa-2d76c42da448 button');\n",
              "      quickchartButtonEl.style.display =\n",
              "        google.colab.kernel.accessAllowed ? 'block' : 'none';\n",
              "    })();\n",
              "  </script>\n",
              "</div>\n",
              "\n",
              "    </div>\n",
              "  </div>\n"
            ],
            "application/vnd.google.colaboratory.intrinsic+json": {
              "type": "dataframe",
              "variable_name": "dataset",
              "summary": "{\n  \"name\": \"dataset\",\n  \"rows\": 13024,\n  \"fields\": [\n    {\n      \"column\": \"Emotions\",\n      \"properties\": {\n        \"dtype\": \"category\",\n        \"num_unique_values\": 2,\n        \"samples\": [\n          \"mugging\",\n          \"not mugging\"\n        ],\n        \"semantic_type\": \"\",\n        \"description\": \"\"\n      }\n    },\n    {\n      \"column\": \"Path\",\n      \"properties\": {\n        \"dtype\": \"string\",\n        \"num_unique_values\": 13024,\n        \"samples\": [\n          \"/content/drive/MyDrive/RAVDESS/audio_speech_actors_01_24/audio_speech_actors_01-24/Actor_14/03-01-07-02-02-02-14.wav\",\n          \"/content/drive/MyDrive/TESS/tess toronto emotional speech set data/TESS Toronto emotional speech set data/YAF_angry/YAF_make_angry.wav\"\n        ],\n        \"semantic_type\": \"\",\n        \"description\": \"\"\n      }\n    }\n  ]\n}"
            }
          },
          "metadata": {},
          "execution_count": 6
        }
      ]
    },
    {
      "cell_type": "code",
      "source": [
        "# Define the path where you want to save the file in your Google Drive\n",
        "Features = pd.read_csv('/content/drive/MyDrive/featuress.csv')"
      ],
      "metadata": {
        "id": "XIs5FSoSWJZp"
      },
      "execution_count": null,
      "outputs": []
    },
    {
      "cell_type": "code",
      "source": [
        "Features.head()"
      ],
      "metadata": {
        "colab": {
          "base_uri": "https://localhost:8080/",
          "height": 342
        },
        "id": "giEtr78NWO-d",
        "outputId": "78517c73-3b82-4084-d600-a22410615cbc"
      },
      "execution_count": null,
      "outputs": [
        {
          "output_type": "execute_result",
          "data": {
            "text/plain": [
              "          0         1         2         3         4         5         6  \\\n",
              "0  0.264025  0.610264  0.674106  0.708518  0.733163  0.679862  0.621189   \n",
              "1  0.295894  0.725903  0.767576  0.796374  0.820471  0.811479  0.746907   \n",
              "2  0.222609  0.695615  0.631123  0.617891  0.634996  0.657911  0.657789   \n",
              "3  0.204187  0.697181  0.686450  0.690078  0.706820  0.673175  0.659655   \n",
              "4  0.254779  0.740578  0.737064  0.754268  0.800620  0.768030  0.694261   \n",
              "\n",
              "          7         8         9  ...           153           154  \\\n",
              "0  0.614429  0.638012  0.659570  ...  1.233707e-05  1.363080e-05   \n",
              "1  0.654453  0.664581  0.712573  ...  1.437516e-04  1.368006e-04   \n",
              "2  0.639339  0.629107  0.608686  ...  7.130395e-07  6.058706e-12   \n",
              "3  0.657918  0.687829  0.682273  ...  1.773611e-05  1.268163e-05   \n",
              "4  0.629636  0.666652  0.688270  ...  6.639184e-05  5.859467e-05   \n",
              "\n",
              "            155           156           157           158           159  \\\n",
              "0  1.991353e-05  4.830410e-05  8.079475e-05  1.352846e-04  1.716032e-04   \n",
              "1  1.442466e-04  1.756525e-04  2.185184e-04  2.517310e-04  3.039300e-04   \n",
              "2  4.110885e-16  1.306799e-16  7.859018e-17  6.600157e-17  6.540497e-17   \n",
              "3  8.949025e-06  5.730517e-06  3.649699e-06  3.963375e-06  4.395089e-06   \n",
              "4  5.785033e-05  5.423547e-05  5.062223e-05  4.948833e-05  5.281765e-05   \n",
              "\n",
              "            160           161       labels  \n",
              "0  5.727524e-05  3.713600e-06  not mugging  \n",
              "1  1.813700e-04  1.326845e-04  not mugging  \n",
              "2  6.952504e-17  7.967406e-17  not mugging  \n",
              "3  5.196617e-06  5.001726e-07  not mugging  \n",
              "4  5.285973e-05  4.742411e-05  not mugging  \n",
              "\n",
              "[5 rows x 163 columns]"
            ],
            "text/html": [
              "\n",
              "  <div id=\"df-0c5b35a3-7a4f-4726-971a-a9ac99e4ba63\" class=\"colab-df-container\">\n",
              "    <div>\n",
              "<style scoped>\n",
              "    .dataframe tbody tr th:only-of-type {\n",
              "        vertical-align: middle;\n",
              "    }\n",
              "\n",
              "    .dataframe tbody tr th {\n",
              "        vertical-align: top;\n",
              "    }\n",
              "\n",
              "    .dataframe thead th {\n",
              "        text-align: right;\n",
              "    }\n",
              "</style>\n",
              "<table border=\"1\" class=\"dataframe\">\n",
              "  <thead>\n",
              "    <tr style=\"text-align: right;\">\n",
              "      <th></th>\n",
              "      <th>0</th>\n",
              "      <th>1</th>\n",
              "      <th>2</th>\n",
              "      <th>3</th>\n",
              "      <th>4</th>\n",
              "      <th>5</th>\n",
              "      <th>6</th>\n",
              "      <th>7</th>\n",
              "      <th>8</th>\n",
              "      <th>9</th>\n",
              "      <th>...</th>\n",
              "      <th>153</th>\n",
              "      <th>154</th>\n",
              "      <th>155</th>\n",
              "      <th>156</th>\n",
              "      <th>157</th>\n",
              "      <th>158</th>\n",
              "      <th>159</th>\n",
              "      <th>160</th>\n",
              "      <th>161</th>\n",
              "      <th>labels</th>\n",
              "    </tr>\n",
              "  </thead>\n",
              "  <tbody>\n",
              "    <tr>\n",
              "      <th>0</th>\n",
              "      <td>0.264025</td>\n",
              "      <td>0.610264</td>\n",
              "      <td>0.674106</td>\n",
              "      <td>0.708518</td>\n",
              "      <td>0.733163</td>\n",
              "      <td>0.679862</td>\n",
              "      <td>0.621189</td>\n",
              "      <td>0.614429</td>\n",
              "      <td>0.638012</td>\n",
              "      <td>0.659570</td>\n",
              "      <td>...</td>\n",
              "      <td>1.233707e-05</td>\n",
              "      <td>1.363080e-05</td>\n",
              "      <td>1.991353e-05</td>\n",
              "      <td>4.830410e-05</td>\n",
              "      <td>8.079475e-05</td>\n",
              "      <td>1.352846e-04</td>\n",
              "      <td>1.716032e-04</td>\n",
              "      <td>5.727524e-05</td>\n",
              "      <td>3.713600e-06</td>\n",
              "      <td>not mugging</td>\n",
              "    </tr>\n",
              "    <tr>\n",
              "      <th>1</th>\n",
              "      <td>0.295894</td>\n",
              "      <td>0.725903</td>\n",
              "      <td>0.767576</td>\n",
              "      <td>0.796374</td>\n",
              "      <td>0.820471</td>\n",
              "      <td>0.811479</td>\n",
              "      <td>0.746907</td>\n",
              "      <td>0.654453</td>\n",
              "      <td>0.664581</td>\n",
              "      <td>0.712573</td>\n",
              "      <td>...</td>\n",
              "      <td>1.437516e-04</td>\n",
              "      <td>1.368006e-04</td>\n",
              "      <td>1.442466e-04</td>\n",
              "      <td>1.756525e-04</td>\n",
              "      <td>2.185184e-04</td>\n",
              "      <td>2.517310e-04</td>\n",
              "      <td>3.039300e-04</td>\n",
              "      <td>1.813700e-04</td>\n",
              "      <td>1.326845e-04</td>\n",
              "      <td>not mugging</td>\n",
              "    </tr>\n",
              "    <tr>\n",
              "      <th>2</th>\n",
              "      <td>0.222609</td>\n",
              "      <td>0.695615</td>\n",
              "      <td>0.631123</td>\n",
              "      <td>0.617891</td>\n",
              "      <td>0.634996</td>\n",
              "      <td>0.657911</td>\n",
              "      <td>0.657789</td>\n",
              "      <td>0.639339</td>\n",
              "      <td>0.629107</td>\n",
              "      <td>0.608686</td>\n",
              "      <td>...</td>\n",
              "      <td>7.130395e-07</td>\n",
              "      <td>6.058706e-12</td>\n",
              "      <td>4.110885e-16</td>\n",
              "      <td>1.306799e-16</td>\n",
              "      <td>7.859018e-17</td>\n",
              "      <td>6.600157e-17</td>\n",
              "      <td>6.540497e-17</td>\n",
              "      <td>6.952504e-17</td>\n",
              "      <td>7.967406e-17</td>\n",
              "      <td>not mugging</td>\n",
              "    </tr>\n",
              "    <tr>\n",
              "      <th>3</th>\n",
              "      <td>0.204187</td>\n",
              "      <td>0.697181</td>\n",
              "      <td>0.686450</td>\n",
              "      <td>0.690078</td>\n",
              "      <td>0.706820</td>\n",
              "      <td>0.673175</td>\n",
              "      <td>0.659655</td>\n",
              "      <td>0.657918</td>\n",
              "      <td>0.687829</td>\n",
              "      <td>0.682273</td>\n",
              "      <td>...</td>\n",
              "      <td>1.773611e-05</td>\n",
              "      <td>1.268163e-05</td>\n",
              "      <td>8.949025e-06</td>\n",
              "      <td>5.730517e-06</td>\n",
              "      <td>3.649699e-06</td>\n",
              "      <td>3.963375e-06</td>\n",
              "      <td>4.395089e-06</td>\n",
              "      <td>5.196617e-06</td>\n",
              "      <td>5.001726e-07</td>\n",
              "      <td>not mugging</td>\n",
              "    </tr>\n",
              "    <tr>\n",
              "      <th>4</th>\n",
              "      <td>0.254779</td>\n",
              "      <td>0.740578</td>\n",
              "      <td>0.737064</td>\n",
              "      <td>0.754268</td>\n",
              "      <td>0.800620</td>\n",
              "      <td>0.768030</td>\n",
              "      <td>0.694261</td>\n",
              "      <td>0.629636</td>\n",
              "      <td>0.666652</td>\n",
              "      <td>0.688270</td>\n",
              "      <td>...</td>\n",
              "      <td>6.639184e-05</td>\n",
              "      <td>5.859467e-05</td>\n",
              "      <td>5.785033e-05</td>\n",
              "      <td>5.423547e-05</td>\n",
              "      <td>5.062223e-05</td>\n",
              "      <td>4.948833e-05</td>\n",
              "      <td>5.281765e-05</td>\n",
              "      <td>5.285973e-05</td>\n",
              "      <td>4.742411e-05</td>\n",
              "      <td>not mugging</td>\n",
              "    </tr>\n",
              "  </tbody>\n",
              "</table>\n",
              "<p>5 rows × 163 columns</p>\n",
              "</div>\n",
              "    <div class=\"colab-df-buttons\">\n",
              "\n",
              "  <div class=\"colab-df-container\">\n",
              "    <button class=\"colab-df-convert\" onclick=\"convertToInteractive('df-0c5b35a3-7a4f-4726-971a-a9ac99e4ba63')\"\n",
              "            title=\"Convert this dataframe to an interactive table.\"\n",
              "            style=\"display:none;\">\n",
              "\n",
              "  <svg xmlns=\"http://www.w3.org/2000/svg\" height=\"24px\" viewBox=\"0 -960 960 960\">\n",
              "    <path d=\"M120-120v-720h720v720H120Zm60-500h600v-160H180v160Zm220 220h160v-160H400v160Zm0 220h160v-160H400v160ZM180-400h160v-160H180v160Zm440 0h160v-160H620v160ZM180-180h160v-160H180v160Zm440 0h160v-160H620v160Z\"/>\n",
              "  </svg>\n",
              "    </button>\n",
              "\n",
              "  <style>\n",
              "    .colab-df-container {\n",
              "      display:flex;\n",
              "      gap: 12px;\n",
              "    }\n",
              "\n",
              "    .colab-df-convert {\n",
              "      background-color: #E8F0FE;\n",
              "      border: none;\n",
              "      border-radius: 50%;\n",
              "      cursor: pointer;\n",
              "      display: none;\n",
              "      fill: #1967D2;\n",
              "      height: 32px;\n",
              "      padding: 0 0 0 0;\n",
              "      width: 32px;\n",
              "    }\n",
              "\n",
              "    .colab-df-convert:hover {\n",
              "      background-color: #E2EBFA;\n",
              "      box-shadow: 0px 1px 2px rgba(60, 64, 67, 0.3), 0px 1px 3px 1px rgba(60, 64, 67, 0.15);\n",
              "      fill: #174EA6;\n",
              "    }\n",
              "\n",
              "    .colab-df-buttons div {\n",
              "      margin-bottom: 4px;\n",
              "    }\n",
              "\n",
              "    [theme=dark] .colab-df-convert {\n",
              "      background-color: #3B4455;\n",
              "      fill: #D2E3FC;\n",
              "    }\n",
              "\n",
              "    [theme=dark] .colab-df-convert:hover {\n",
              "      background-color: #434B5C;\n",
              "      box-shadow: 0px 1px 3px 1px rgba(0, 0, 0, 0.15);\n",
              "      filter: drop-shadow(0px 1px 2px rgba(0, 0, 0, 0.3));\n",
              "      fill: #FFFFFF;\n",
              "    }\n",
              "  </style>\n",
              "\n",
              "    <script>\n",
              "      const buttonEl =\n",
              "        document.querySelector('#df-0c5b35a3-7a4f-4726-971a-a9ac99e4ba63 button.colab-df-convert');\n",
              "      buttonEl.style.display =\n",
              "        google.colab.kernel.accessAllowed ? 'block' : 'none';\n",
              "\n",
              "      async function convertToInteractive(key) {\n",
              "        const element = document.querySelector('#df-0c5b35a3-7a4f-4726-971a-a9ac99e4ba63');\n",
              "        const dataTable =\n",
              "          await google.colab.kernel.invokeFunction('convertToInteractive',\n",
              "                                                    [key], {});\n",
              "        if (!dataTable) return;\n",
              "\n",
              "        const docLinkHtml = 'Like what you see? Visit the ' +\n",
              "          '<a target=\"_blank\" href=https://colab.research.google.com/notebooks/data_table.ipynb>data table notebook</a>'\n",
              "          + ' to learn more about interactive tables.';\n",
              "        element.innerHTML = '';\n",
              "        dataTable['output_type'] = 'display_data';\n",
              "        await google.colab.output.renderOutput(dataTable, element);\n",
              "        const docLink = document.createElement('div');\n",
              "        docLink.innerHTML = docLinkHtml;\n",
              "        element.appendChild(docLink);\n",
              "      }\n",
              "    </script>\n",
              "  </div>\n",
              "\n",
              "\n",
              "<div id=\"df-11b1572a-5db3-43cb-a54c-36f4abfd4fab\">\n",
              "  <button class=\"colab-df-quickchart\" onclick=\"quickchart('df-11b1572a-5db3-43cb-a54c-36f4abfd4fab')\"\n",
              "            title=\"Suggest charts\"\n",
              "            style=\"display:none;\">\n",
              "\n",
              "<svg xmlns=\"http://www.w3.org/2000/svg\" height=\"24px\"viewBox=\"0 0 24 24\"\n",
              "     width=\"24px\">\n",
              "    <g>\n",
              "        <path d=\"M19 3H5c-1.1 0-2 .9-2 2v14c0 1.1.9 2 2 2h14c1.1 0 2-.9 2-2V5c0-1.1-.9-2-2-2zM9 17H7v-7h2v7zm4 0h-2V7h2v10zm4 0h-2v-4h2v4z\"/>\n",
              "    </g>\n",
              "</svg>\n",
              "  </button>\n",
              "\n",
              "<style>\n",
              "  .colab-df-quickchart {\n",
              "      --bg-color: #E8F0FE;\n",
              "      --fill-color: #1967D2;\n",
              "      --hover-bg-color: #E2EBFA;\n",
              "      --hover-fill-color: #174EA6;\n",
              "      --disabled-fill-color: #AAA;\n",
              "      --disabled-bg-color: #DDD;\n",
              "  }\n",
              "\n",
              "  [theme=dark] .colab-df-quickchart {\n",
              "      --bg-color: #3B4455;\n",
              "      --fill-color: #D2E3FC;\n",
              "      --hover-bg-color: #434B5C;\n",
              "      --hover-fill-color: #FFFFFF;\n",
              "      --disabled-bg-color: #3B4455;\n",
              "      --disabled-fill-color: #666;\n",
              "  }\n",
              "\n",
              "  .colab-df-quickchart {\n",
              "    background-color: var(--bg-color);\n",
              "    border: none;\n",
              "    border-radius: 50%;\n",
              "    cursor: pointer;\n",
              "    display: none;\n",
              "    fill: var(--fill-color);\n",
              "    height: 32px;\n",
              "    padding: 0;\n",
              "    width: 32px;\n",
              "  }\n",
              "\n",
              "  .colab-df-quickchart:hover {\n",
              "    background-color: var(--hover-bg-color);\n",
              "    box-shadow: 0 1px 2px rgba(60, 64, 67, 0.3), 0 1px 3px 1px rgba(60, 64, 67, 0.15);\n",
              "    fill: var(--button-hover-fill-color);\n",
              "  }\n",
              "\n",
              "  .colab-df-quickchart-complete:disabled,\n",
              "  .colab-df-quickchart-complete:disabled:hover {\n",
              "    background-color: var(--disabled-bg-color);\n",
              "    fill: var(--disabled-fill-color);\n",
              "    box-shadow: none;\n",
              "  }\n",
              "\n",
              "  .colab-df-spinner {\n",
              "    border: 2px solid var(--fill-color);\n",
              "    border-color: transparent;\n",
              "    border-bottom-color: var(--fill-color);\n",
              "    animation:\n",
              "      spin 1s steps(1) infinite;\n",
              "  }\n",
              "\n",
              "  @keyframes spin {\n",
              "    0% {\n",
              "      border-color: transparent;\n",
              "      border-bottom-color: var(--fill-color);\n",
              "      border-left-color: var(--fill-color);\n",
              "    }\n",
              "    20% {\n",
              "      border-color: transparent;\n",
              "      border-left-color: var(--fill-color);\n",
              "      border-top-color: var(--fill-color);\n",
              "    }\n",
              "    30% {\n",
              "      border-color: transparent;\n",
              "      border-left-color: var(--fill-color);\n",
              "      border-top-color: var(--fill-color);\n",
              "      border-right-color: var(--fill-color);\n",
              "    }\n",
              "    40% {\n",
              "      border-color: transparent;\n",
              "      border-right-color: var(--fill-color);\n",
              "      border-top-color: var(--fill-color);\n",
              "    }\n",
              "    60% {\n",
              "      border-color: transparent;\n",
              "      border-right-color: var(--fill-color);\n",
              "    }\n",
              "    80% {\n",
              "      border-color: transparent;\n",
              "      border-right-color: var(--fill-color);\n",
              "      border-bottom-color: var(--fill-color);\n",
              "    }\n",
              "    90% {\n",
              "      border-color: transparent;\n",
              "      border-bottom-color: var(--fill-color);\n",
              "    }\n",
              "  }\n",
              "</style>\n",
              "\n",
              "  <script>\n",
              "    async function quickchart(key) {\n",
              "      const quickchartButtonEl =\n",
              "        document.querySelector('#' + key + ' button');\n",
              "      quickchartButtonEl.disabled = true;  // To prevent multiple clicks.\n",
              "      quickchartButtonEl.classList.add('colab-df-spinner');\n",
              "      try {\n",
              "        const charts = await google.colab.kernel.invokeFunction(\n",
              "            'suggestCharts', [key], {});\n",
              "      } catch (error) {\n",
              "        console.error('Error during call to suggestCharts:', error);\n",
              "      }\n",
              "      quickchartButtonEl.classList.remove('colab-df-spinner');\n",
              "      quickchartButtonEl.classList.add('colab-df-quickchart-complete');\n",
              "    }\n",
              "    (() => {\n",
              "      let quickchartButtonEl =\n",
              "        document.querySelector('#df-11b1572a-5db3-43cb-a54c-36f4abfd4fab button');\n",
              "      quickchartButtonEl.style.display =\n",
              "        google.colab.kernel.accessAllowed ? 'block' : 'none';\n",
              "    })();\n",
              "  </script>\n",
              "</div>\n",
              "\n",
              "    </div>\n",
              "  </div>\n"
            ],
            "application/vnd.google.colaboratory.intrinsic+json": {
              "type": "dataframe",
              "variable_name": "Features"
            }
          },
          "metadata": {},
          "execution_count": 8
        }
      ]
    },
    {
      "cell_type": "code",
      "source": [
        "X = Features.iloc[: ,:-1].values\n",
        "Y = Features['labels'].values"
      ],
      "metadata": {
        "id": "HhjPpK8xVzuv"
      },
      "execution_count": null,
      "outputs": []
    },
    {
      "cell_type": "code",
      "source": [
        "# As this is a multiclass classification problem onehotencoding our Y.\n",
        "encoder = OneHotEncoder()\n",
        "Y = encoder.fit_transform(np.array(Y).reshape(-1,1)).toarray()"
      ],
      "metadata": {
        "id": "WqFhebQMXGas"
      },
      "execution_count": null,
      "outputs": []
    },
    {
      "cell_type": "code",
      "source": [
        "# splitting data\n",
        "x_train, x_test, y_train, y_test = train_test_split(X, Y, random_state=0, shuffle=True)\n",
        "x_train.shape, y_train.shape, x_test.shape, y_test.shape"
      ],
      "metadata": {
        "colab": {
          "base_uri": "https://localhost:8080/"
        },
        "id": "QhNyyo_kXIFq",
        "outputId": "2ca782c2-571a-49c9-a23c-bea2c0098747"
      },
      "execution_count": null,
      "outputs": [
        {
          "output_type": "execute_result",
          "data": {
            "text/plain": [
              "((29304, 162), (29304, 2), (9768, 162), (9768, 2))"
            ]
          },
          "metadata": {},
          "execution_count": 11
        }
      ]
    },
    {
      "cell_type": "code",
      "source": [
        "# scaling our data with sklearn's Standard scaler\n",
        "scaler = StandardScaler()\n",
        "x_train = scaler.fit_transform(x_train)\n",
        "x_test = scaler.transform(x_test)\n",
        "x_train.shape, y_train.shape, x_test.shape, y_test.shape"
      ],
      "metadata": {
        "colab": {
          "base_uri": "https://localhost:8080/"
        },
        "id": "-Pukq1BqXNZd",
        "outputId": "f24f08ff-4654-440c-b978-05ab2cb598f4"
      },
      "execution_count": null,
      "outputs": [
        {
          "output_type": "execute_result",
          "data": {
            "text/plain": [
              "((29304, 162), (29304, 2), (9768, 162), (9768, 2))"
            ]
          },
          "metadata": {},
          "execution_count": 12
        }
      ]
    },
    {
      "cell_type": "code",
      "source": [
        "# making our data compatible to model.\n",
        "x_train = np.expand_dims(x_train, axis=2)\n",
        "x_test = np.expand_dims(x_test, axis=2)\n",
        "x_train.shape, y_train.shape, x_test.shape, y_test.shape"
      ],
      "metadata": {
        "colab": {
          "base_uri": "https://localhost:8080/"
        },
        "id": "1VR_KsW8XQqU",
        "outputId": "52d9262a-963d-4987-d9aa-b58350614f17"
      },
      "execution_count": null,
      "outputs": [
        {
          "output_type": "execute_result",
          "data": {
            "text/plain": [
              "((29304, 162, 1), (29304, 2), (9768, 162, 1), (9768, 2))"
            ]
          },
          "metadata": {},
          "execution_count": 13
        }
      ]
    },
    {
      "cell_type": "code",
      "source": [
        "if len(x_train.shape) == 2:\n",
        "    x_train = np.expand_dims(x_train, axis=-1)\n",
        "if len(x_test.shape) == 2:\n",
        "    x_test = np.expand_dims(x_test, axis=-1)\n",
        "\n",
        "print(\"Reshaped x_train shape:\", x_train.shape)\n",
        "print(\"Reshaped x_test shape:\", x_test.shape)"
      ],
      "metadata": {
        "colab": {
          "base_uri": "https://localhost:8080/"
        },
        "id": "_-hH4pbjXT56",
        "outputId": "d2f63faf-249d-44f5-c490-619d879eac5b"
      },
      "execution_count": null,
      "outputs": [
        {
          "output_type": "stream",
          "name": "stdout",
          "text": [
            "Reshaped x_train shape: (29304, 162, 1)\n",
            "Reshaped x_test shape: (9768, 162, 1)\n"
          ]
        }
      ]
    },
    {
      "cell_type": "code",
      "source": [
        "# Define the model\n",
        "model = Sequential()\n",
        "model.add(Conv1D(256, kernel_size=5, strides=1, padding='same', activation='relu', input_shape=(x_train.shape[1], 1)))\n",
        "model.add(MaxPooling1D(pool_size=5, strides=2, padding='same'))\n",
        "model.add(Conv1D(256, kernel_size=5, strides=1, padding='same', activation='relu'))\n",
        "model.add(MaxPooling1D(pool_size=5, strides=2, padding='same'))\n",
        "model.add(Conv1D(128, kernel_size=5, strides=1, padding='same', activation='relu'))\n",
        "model.add(MaxPooling1D(pool_size=5, strides=2, padding='same'))\n",
        "model.add(Dropout(0.2))\n",
        "model.add(Conv1D(64, kernel_size=5, strides=1, padding='same', activation='relu'))\n",
        "model.add(MaxPooling1D(pool_size=5, strides=2, padding='same'))\n",
        "model.add(Flatten())\n",
        "model.add(Dense(units=32, activation='relu'))\n",
        "model.add(Dropout(0.3))\n",
        "model.add(Dense(units=2, activation='softmax'))"
      ],
      "metadata": {
        "id": "0UjXKpqqeMrr"
      },
      "execution_count": null,
      "outputs": []
    },
    {
      "cell_type": "code",
      "source": [
        "model.summary()"
      ],
      "metadata": {
        "colab": {
          "base_uri": "https://localhost:8080/"
        },
        "id": "pU1HUyUveWCZ",
        "outputId": "d222bdaf-7d1a-4f0d-ec00-042c1d34d9e3"
      },
      "execution_count": null,
      "outputs": [
        {
          "output_type": "stream",
          "name": "stdout",
          "text": [
            "Model: \"sequential\"\n",
            "_________________________________________________________________\n",
            " Layer (type)                Output Shape              Param #   \n",
            "=================================================================\n",
            " conv1d (Conv1D)             (None, 162, 256)          1536      \n",
            "                                                                 \n",
            " max_pooling1d (MaxPooling1  (None, 81, 256)           0         \n",
            " D)                                                              \n",
            "                                                                 \n",
            " conv1d_1 (Conv1D)           (None, 81, 256)           327936    \n",
            "                                                                 \n",
            " max_pooling1d_1 (MaxPoolin  (None, 41, 256)           0         \n",
            " g1D)                                                            \n",
            "                                                                 \n",
            " conv1d_2 (Conv1D)           (None, 41, 128)           163968    \n",
            "                                                                 \n",
            " max_pooling1d_2 (MaxPoolin  (None, 21, 128)           0         \n",
            " g1D)                                                            \n",
            "                                                                 \n",
            " dropout (Dropout)           (None, 21, 128)           0         \n",
            "                                                                 \n",
            " conv1d_3 (Conv1D)           (None, 21, 64)            41024     \n",
            "                                                                 \n",
            " max_pooling1d_3 (MaxPoolin  (None, 11, 64)            0         \n",
            " g1D)                                                            \n",
            "                                                                 \n",
            " flatten (Flatten)           (None, 704)               0         \n",
            "                                                                 \n",
            " dense (Dense)               (None, 32)                22560     \n",
            "                                                                 \n",
            " dropout_1 (Dropout)         (None, 32)                0         \n",
            "                                                                 \n",
            " dense_1 (Dense)             (None, 2)                 66        \n",
            "                                                                 \n",
            "=================================================================\n",
            "Total params: 557090 (2.13 MB)\n",
            "Trainable params: 557090 (2.13 MB)\n",
            "Non-trainable params: 0 (0.00 Byte)\n",
            "_________________________________________________________________\n"
          ]
        }
      ]
    },
    {
      "cell_type": "code",
      "source": [
        "# Compile the model\n",
        "model.compile(optimizer='adam', loss='categorical_crossentropy', metrics=['accuracy'])"
      ],
      "metadata": {
        "id": "1ReRfcJXecWj"
      },
      "execution_count": null,
      "outputs": []
    },
    {
      "cell_type": "code",
      "source": [
        "# Define the learning rate reduction callback\n",
        "rlrp = ReduceLROnPlateau(monitor='loss', factor=0.4, verbose=1, patience=2, min_lr=0.0000001)\n",
        "\n",
        "# Train the model and save the history\n",
        "history = model.fit(x_train, y_train, batch_size=32, epochs=50, validation_data=(x_test, y_test), callbacks=[rlrp])"
      ],
      "metadata": {
        "colab": {
          "base_uri": "https://localhost:8080/"
        },
        "id": "nMGBTGifehd5",
        "outputId": "a896f86e-1d3c-469b-d22b-2e32213deee0"
      },
      "execution_count": null,
      "outputs": [
        {
          "output_type": "stream",
          "name": "stdout",
          "text": [
            "Epoch 1/50\n",
            "916/916 [==============================] - 17s 10ms/step - loss: 0.6143 - accuracy: 0.6620 - val_loss: 0.6037 - val_accuracy: 0.6469 - lr: 0.0010\n",
            "Epoch 2/50\n",
            "916/916 [==============================] - 11s 12ms/step - loss: 0.5530 - accuracy: 0.7036 - val_loss: 0.5268 - val_accuracy: 0.7102 - lr: 0.0010\n",
            "Epoch 3/50\n",
            "916/916 [==============================] - 9s 10ms/step - loss: 0.5114 - accuracy: 0.7287 - val_loss: 0.4914 - val_accuracy: 0.7257 - lr: 0.0010\n",
            "Epoch 4/50\n",
            "916/916 [==============================] - 7s 8ms/step - loss: 0.4916 - accuracy: 0.7390 - val_loss: 0.4873 - val_accuracy: 0.7310 - lr: 0.0010\n",
            "Epoch 5/50\n",
            "916/916 [==============================] - 13s 15ms/step - loss: 0.4780 - accuracy: 0.7470 - val_loss: 0.4713 - val_accuracy: 0.7431 - lr: 0.0010\n",
            "Epoch 6/50\n",
            "916/916 [==============================] - 11s 12ms/step - loss: 0.4680 - accuracy: 0.7516 - val_loss: 0.4652 - val_accuracy: 0.7439 - lr: 0.0010\n",
            "Epoch 7/50\n",
            "916/916 [==============================] - 7s 8ms/step - loss: 0.4621 - accuracy: 0.7553 - val_loss: 0.4584 - val_accuracy: 0.7481 - lr: 0.0010\n",
            "Epoch 8/50\n",
            "916/916 [==============================] - 8s 9ms/step - loss: 0.4533 - accuracy: 0.7613 - val_loss: 0.4565 - val_accuracy: 0.7523 - lr: 0.0010\n",
            "Epoch 9/50\n",
            "916/916 [==============================] - 10s 11ms/step - loss: 0.4435 - accuracy: 0.7653 - val_loss: 0.4532 - val_accuracy: 0.7531 - lr: 0.0010\n",
            "Epoch 10/50\n",
            "916/916 [==============================] - 7s 8ms/step - loss: 0.4386 - accuracy: 0.7675 - val_loss: 0.4564 - val_accuracy: 0.7505 - lr: 0.0010\n",
            "Epoch 11/50\n",
            "916/916 [==============================] - 11s 12ms/step - loss: 0.4327 - accuracy: 0.7709 - val_loss: 0.4860 - val_accuracy: 0.7368 - lr: 0.0010\n",
            "Epoch 12/50\n",
            "916/916 [==============================] - 7s 8ms/step - loss: 0.4296 - accuracy: 0.7725 - val_loss: 0.4498 - val_accuracy: 0.7501 - lr: 0.0010\n",
            "Epoch 13/50\n",
            "916/916 [==============================] - 8s 9ms/step - loss: 0.4205 - accuracy: 0.7772 - val_loss: 0.4497 - val_accuracy: 0.7583 - lr: 0.0010\n",
            "Epoch 14/50\n",
            "916/916 [==============================] - 10s 11ms/step - loss: 0.4143 - accuracy: 0.7844 - val_loss: 0.4366 - val_accuracy: 0.7623 - lr: 0.0010\n",
            "Epoch 15/50\n",
            "916/916 [==============================] - 9s 10ms/step - loss: 0.4105 - accuracy: 0.7850 - val_loss: 0.4412 - val_accuracy: 0.7556 - lr: 0.0010\n",
            "Epoch 16/50\n",
            "916/916 [==============================] - 10s 11ms/step - loss: 0.4065 - accuracy: 0.7850 - val_loss: 0.4503 - val_accuracy: 0.7613 - lr: 0.0010\n",
            "Epoch 17/50\n",
            "916/916 [==============================] - 7s 8ms/step - loss: 0.4011 - accuracy: 0.7905 - val_loss: 0.4491 - val_accuracy: 0.7598 - lr: 0.0010\n",
            "Epoch 18/50\n",
            "916/916 [==============================] - 9s 10ms/step - loss: 0.3964 - accuracy: 0.7922 - val_loss: 0.4366 - val_accuracy: 0.7631 - lr: 0.0010\n",
            "Epoch 19/50\n",
            "916/916 [==============================] - 9s 9ms/step - loss: 0.3893 - accuracy: 0.7970 - val_loss: 0.4527 - val_accuracy: 0.7620 - lr: 0.0010\n",
            "Epoch 20/50\n",
            "916/916 [==============================] - 9s 10ms/step - loss: 0.3858 - accuracy: 0.7980 - val_loss: 0.4495 - val_accuracy: 0.7625 - lr: 0.0010\n",
            "Epoch 21/50\n",
            "916/916 [==============================] - 8s 9ms/step - loss: 0.3812 - accuracy: 0.8012 - val_loss: 0.4509 - val_accuracy: 0.7637 - lr: 0.0010\n",
            "Epoch 22/50\n",
            "916/916 [==============================] - 10s 11ms/step - loss: 0.3759 - accuracy: 0.8043 - val_loss: 0.4619 - val_accuracy: 0.7688 - lr: 0.0010\n",
            "Epoch 23/50\n",
            "916/916 [==============================] - 8s 9ms/step - loss: 0.3694 - accuracy: 0.8106 - val_loss: 0.4417 - val_accuracy: 0.7674 - lr: 0.0010\n",
            "Epoch 24/50\n",
            "916/916 [==============================] - 7s 8ms/step - loss: 0.3630 - accuracy: 0.8134 - val_loss: 0.4425 - val_accuracy: 0.7701 - lr: 0.0010\n",
            "Epoch 25/50\n",
            "916/916 [==============================] - 11s 12ms/step - loss: 0.3572 - accuracy: 0.8179 - val_loss: 0.4633 - val_accuracy: 0.7693 - lr: 0.0010\n",
            "Epoch 26/50\n",
            "916/916 [==============================] - 7s 8ms/step - loss: 0.3531 - accuracy: 0.8204 - val_loss: 0.4525 - val_accuracy: 0.7749 - lr: 0.0010\n",
            "Epoch 27/50\n",
            "916/916 [==============================] - 7s 8ms/step - loss: 0.3489 - accuracy: 0.8207 - val_loss: 0.4551 - val_accuracy: 0.7669 - lr: 0.0010\n",
            "Epoch 28/50\n",
            "916/916 [==============================] - 7s 7ms/step - loss: 0.3458 - accuracy: 0.8231 - val_loss: 0.4568 - val_accuracy: 0.7740 - lr: 0.0010\n",
            "Epoch 29/50\n",
            "916/916 [==============================] - 7s 8ms/step - loss: 0.3455 - accuracy: 0.8257 - val_loss: 0.4667 - val_accuracy: 0.7733 - lr: 0.0010\n",
            "Epoch 30/50\n",
            "916/916 [==============================] - 7s 7ms/step - loss: 0.3374 - accuracy: 0.8295 - val_loss: 0.4491 - val_accuracy: 0.7701 - lr: 0.0010\n",
            "Epoch 31/50\n",
            "916/916 [==============================] - 8s 9ms/step - loss: 0.3302 - accuracy: 0.8353 - val_loss: 0.4750 - val_accuracy: 0.7684 - lr: 0.0010\n",
            "Epoch 32/50\n",
            "916/916 [==============================] - 7s 7ms/step - loss: 0.3274 - accuracy: 0.8350 - val_loss: 0.4618 - val_accuracy: 0.7696 - lr: 0.0010\n",
            "Epoch 33/50\n",
            "916/916 [==============================] - 7s 8ms/step - loss: 0.3232 - accuracy: 0.8353 - val_loss: 0.5122 - val_accuracy: 0.7727 - lr: 0.0010\n",
            "Epoch 34/50\n",
            "916/916 [==============================] - 8s 8ms/step - loss: 0.3144 - accuracy: 0.8417 - val_loss: 0.4786 - val_accuracy: 0.7705 - lr: 0.0010\n",
            "Epoch 35/50\n",
            "916/916 [==============================] - 8s 8ms/step - loss: 0.3116 - accuracy: 0.8428 - val_loss: 0.4974 - val_accuracy: 0.7691 - lr: 0.0010\n",
            "Epoch 36/50\n",
            "916/916 [==============================] - 7s 8ms/step - loss: 0.3140 - accuracy: 0.8456 - val_loss: 0.4997 - val_accuracy: 0.7681 - lr: 0.0010\n",
            "Epoch 37/50\n",
            "916/916 [==============================] - 7s 7ms/step - loss: 0.3064 - accuracy: 0.8489 - val_loss: 0.4652 - val_accuracy: 0.7700 - lr: 0.0010\n",
            "Epoch 38/50\n",
            "916/916 [==============================] - 7s 8ms/step - loss: 0.3017 - accuracy: 0.8517 - val_loss: 0.4942 - val_accuracy: 0.7633 - lr: 0.0010\n",
            "Epoch 39/50\n",
            "916/916 [==============================] - 6s 7ms/step - loss: 0.2956 - accuracy: 0.8530 - val_loss: 0.5104 - val_accuracy: 0.7751 - lr: 0.0010\n",
            "Epoch 40/50\n",
            "916/916 [==============================] - 7s 8ms/step - loss: 0.2949 - accuracy: 0.8559 - val_loss: 0.4749 - val_accuracy: 0.7665 - lr: 0.0010\n",
            "Epoch 41/50\n",
            "916/916 [==============================] - 10s 11ms/step - loss: 0.2885 - accuracy: 0.8605 - val_loss: 0.5125 - val_accuracy: 0.7649 - lr: 0.0010\n",
            "Epoch 42/50\n",
            "916/916 [==============================] - 12s 13ms/step - loss: 0.2873 - accuracy: 0.8624 - val_loss: 0.4872 - val_accuracy: 0.7783 - lr: 0.0010\n",
            "Epoch 43/50\n",
            "916/916 [==============================] - 8s 8ms/step - loss: 0.2837 - accuracy: 0.8621 - val_loss: 0.5091 - val_accuracy: 0.7692 - lr: 0.0010\n",
            "Epoch 44/50\n",
            "916/916 [==============================] - 7s 8ms/step - loss: 0.2795 - accuracy: 0.8638 - val_loss: 0.5469 - val_accuracy: 0.7728 - lr: 0.0010\n",
            "Epoch 45/50\n",
            "916/916 [==============================] - 8s 8ms/step - loss: 0.2720 - accuracy: 0.8674 - val_loss: 0.5527 - val_accuracy: 0.7746 - lr: 0.0010\n",
            "Epoch 46/50\n",
            "916/916 [==============================] - 7s 8ms/step - loss: 0.2728 - accuracy: 0.8683 - val_loss: 0.5033 - val_accuracy: 0.7723 - lr: 0.0010\n",
            "Epoch 47/50\n",
            "916/916 [==============================] - 8s 8ms/step - loss: 0.2688 - accuracy: 0.8711 - val_loss: 0.5301 - val_accuracy: 0.7660 - lr: 0.0010\n",
            "Epoch 48/50\n",
            "916/916 [==============================] - 7s 7ms/step - loss: 0.2707 - accuracy: 0.8722 - val_loss: 0.5513 - val_accuracy: 0.7688 - lr: 0.0010\n",
            "Epoch 49/50\n",
            "916/916 [==============================] - 7s 8ms/step - loss: 0.2593 - accuracy: 0.8760 - val_loss: 0.5322 - val_accuracy: 0.7712 - lr: 0.0010\n",
            "Epoch 50/50\n",
            "916/916 [==============================] - 7s 8ms/step - loss: 0.2600 - accuracy: 0.8776 - val_loss: 0.5583 - val_accuracy: 0.7726 - lr: 0.0010\n"
          ]
        }
      ]
    },
    {
      "cell_type": "code",
      "source": [
        "drive_path = '/content/drive/MyDrive/mugging_detection_model'"
      ],
      "metadata": {
        "id": "0Z1IzEsFfY9t"
      },
      "execution_count": null,
      "outputs": []
    },
    {
      "cell_type": "code",
      "source": [
        "import pickle\n",
        "# Save the model\n",
        "model.save(os.path.join(drive_path, 'muugging_detection_model.h5'))\n",
        "\n",
        "# Save the history\n",
        "with open(os.path.join(drive_path, 'history.pkl'), 'wb') as file_pi:\n",
        "    pickle.dump(history.history, file_pi)"
      ],
      "metadata": {
        "colab": {
          "base_uri": "https://localhost:8080/"
        },
        "id": "xIi1cwL6fSNM",
        "outputId": "77cf55d6-cb31-4a57-81a6-08299683c989"
      },
      "execution_count": null,
      "outputs": [
        {
          "output_type": "stream",
          "name": "stderr",
          "text": [
            "/usr/local/lib/python3.10/dist-packages/keras/src/engine/training.py:3103: UserWarning: You are saving your model as an HDF5 file via `model.save()`. This file format is considered legacy. We recommend using instead the native Keras format, e.g. `model.save('my_model.keras')`.\n",
            "  saving_api.save_model(\n"
          ]
        }
      ]
    },
    {
      "cell_type": "code",
      "source": [
        "from tensorflow.keras.models import load_model\n",
        "# Load the saved model\n",
        "model = load_model(os.path.join(drive_path, 'muugging_detection_model.h5'))"
      ],
      "metadata": {
        "id": "AdXSt8OIXcey"
      },
      "execution_count": null,
      "outputs": []
    },
    {
      "cell_type": "code",
      "source": [
        "import pickle\n",
        "\n",
        "# Load the history\n",
        "history_path = os.path.join(drive_path, 'history.pkl')\n",
        "with open(history_path, 'rb') as file_pi:\n",
        "    history = pickle.load(file_pi)"
      ],
      "metadata": {
        "id": "HQ8PJBzafscV"
      },
      "execution_count": null,
      "outputs": []
    },
    {
      "cell_type": "code",
      "source": [
        "# Plotting the loss curve\n",
        "plt.figure(figsize=(10, 7))\n",
        "plt.plot(history['loss'], label='Train Loss')\n",
        "plt.plot(history['val_loss'], label='Validation Loss')\n",
        "plt.xlabel('Epochs')\n",
        "plt.ylabel('Loss')\n",
        "plt.title('Loss Curve')\n",
        "plt.legend()\n",
        "plt.show()"
      ],
      "metadata": {
        "colab": {
          "base_uri": "https://localhost:8080/",
          "height": 641
        },
        "id": "PsKY61bQftPG",
        "outputId": "c431ff08-df70-4acd-d5a6-6b9ba6be903f"
      },
      "execution_count": null,
      "outputs": [
        {
          "output_type": "display_data",
          "data": {
            "text/plain": [
              "<Figure size 1000x700 with 1 Axes>"
            ],
            "image/png": "[encoded data removed]"
          },
          "metadata": {}
        }
      ]
    },
    {
      "cell_type": "code",
      "source": [
        "# Plotting the accuracy curve\n",
        "plt.figure(figsize=(10, 7))\n",
        "plt.plot(history['accuracy'], label='Train Accuracy')\n",
        "plt.plot(history['val_accuracy'], label='Validation Accuracy')\n",
        "plt.xlabel('Epochs')\n",
        "plt.ylabel('Accuracy')\n",
        "plt.title('Accuracy Curve')\n",
        "plt.legend()\n",
        "plt.show()"
      ],
      "metadata": {
        "colab": {
          "base_uri": "https://localhost:8080/",
          "height": 641
        },
        "id": "wl_FWVUBfxGp",
        "outputId": "5229ecfc-049d-4c49-fe2f-50f6563e1c68"
      },
      "execution_count": null,
      "outputs": [
        {
          "output_type": "display_data",
          "data": {
            "text/plain": [
              "<Figure size 1000x700 with 1 Axes>"
            ],
            "image/png": "[encoded data removed]"
          },
          "metadata": {}
        }
      ]
    },
    {
      "cell_type": "code",
      "source": [
        "# Evaluate the model\n",
        "evaluation = model.evaluate(x_test, y_test)\n",
        "accuracy = evaluation[1] * 100\n",
        "print(\"Accuracy of our model on test data:\", accuracy, \"%\")"
      ],
      "metadata": {
        "colab": {
          "base_uri": "https://localhost:8080/"
        },
        "id": "N2w5_hFYXmfG",
        "outputId": "59de47d1-5e95-4348-8d80-c2c680a43f77"
      },
      "execution_count": null,
      "outputs": [
        {
          "output_type": "stream",
          "name": "stdout",
          "text": [
            "306/306 [==============================] - 2s 4ms/step - loss: 0.5583 - accuracy: 0.7726\n",
            "Accuracy of our model on test data: 77.26249098777771 %\n"
          ]
        }
      ]
    },
    {
      "cell_type": "code",
      "source": [
        "# Predictions\n",
        "y_pred = model.predict(x_test)"
      ],
      "metadata": {
        "colab": {
          "base_uri": "https://localhost:8080/"
        },
        "id": "DIXfj2-fcJfF",
        "outputId": "223c4232-69ff-4bd6-86b6-e6ea9361078f"
      },
      "execution_count": null,
      "outputs": [
        {
          "output_type": "stream",
          "name": "stdout",
          "text": [
            "306/306 [==============================] - 1s 2ms/step\n"
          ]
        }
      ]
    },
    {
      "cell_type": "code",
      "source": [
        "# Converting predictions to label\n",
        "y_pred_labels = np.argmax(y_pred, axis=1)\n",
        "y_test_labels = np.argmax(y_test, axis=1)"
      ],
      "metadata": {
        "id": "yNDpwngUcNqB"
      },
      "execution_count": null,
      "outputs": []
    },
    {
      "cell_type": "code",
      "source": [
        "from sklearn.metrics import classification_report, f1_score, roc_auc_score, confusion_matrix, roc_curve, auc\n",
        "# F1 score\n",
        "f1 = f1_score(y_test_labels, y_pred_labels, average='weighted')\n",
        "print(\"F1 Score: \", f1)\n",
        "\n",
        "# AUC Score\n",
        "auc_score = roc_auc_score(y_test, y_pred, multi_class='ovr')\n",
        "print(\"AUC Score: \", auc_score)\n",
        "\n",
        "# Classification Report\n",
        "print(\"Classification Report:\\n\", classification_report(y_test_labels, y_pred_labels))\n",
        "\n",
        "# Confusion Matrix\n",
        "conf_matrix = confusion_matrix(y_test_labels, y_pred_labels)\n",
        "print(\"Confusion Matrix:\\n\", conf_matrix)"
      ],
      "metadata": {
        "colab": {
          "base_uri": "https://localhost:8080/"
        },
        "id": "qNzTdmHwY1VT",
        "outputId": "31371a19-8a6c-4afd-e591-5722a67c55f0"
      },
      "execution_count": null,
      "outputs": [
        {
          "output_type": "stream",
          "name": "stdout",
          "text": [
            "F1 Score:  0.7696215508476922\n",
            "AUC Score:  0.8516499618637612\n",
            "Classification Report:\n",
            "               precision    recall  f1-score   support\n",
            "\n",
            "           0       0.81      0.85      0.83      6319\n",
            "           1       0.70      0.63      0.66      3449\n",
            "\n",
            "    accuracy                           0.77      9768\n",
            "   macro avg       0.75      0.74      0.74      9768\n",
            "weighted avg       0.77      0.77      0.77      9768\n",
            "\n",
            "Confusion Matrix:\n",
            " [[5383  936]\n",
            " [1285 2164]]\n"
          ]
        }
      ]
    },
    {
      "cell_type": "code",
      "source": [
        "# Plot Confusion Matrix\n",
        "plt.figure(figsize=(10, 7))\n",
        "plt.imshow(conf_matrix, cmap='Blues', interpolation='none')\n",
        "plt.title('Confusion Matrix')\n",
        "plt.colorbar()\n",
        "plt.xticks(np.arange(len(encoder.categories_[0])), encoder.categories_[0], rotation=45)\n",
        "plt.yticks(np.arange(len(encoder.categories_[0])), encoder.categories_[0])\n",
        "plt.xlabel('Predicted Label')\n",
        "plt.ylabel('True Label')\n",
        "plt.show()"
      ],
      "metadata": {
        "colab": {
          "base_uri": "https://localhost:8080/",
          "height": 700
        },
        "id": "OI6UMn_EcvwW",
        "outputId": "1a2c2cb4-fe4a-461e-88f5-655d1518877c"
      },
      "execution_count": null,
      "outputs": [
        {
          "output_type": "display_data",
          "data": {
            "text/plain": [
              "<Figure size 1000x700 with 2 Axes>"
            ],
            "image/png": "[encoded data removed]"
          },
          "metadata": {}
        }
      ]
    },
    {
      "cell_type": "code",
      "source": [
        "# Plot ROC Curves for each class\n",
        "plt.figure(figsize=(10, 7))\n",
        "for i in range(y_test.shape[1]):\n",
        "    fpr, tpr, _ = roc_curve(y_test[:, i], y_pred[:, i])\n",
        "    plt.plot(fpr, tpr, label=f'Class {i} (area = {auc(fpr, tpr):.2f})')\n",
        "plt.plot([0, 1], [0, 1], 'k--')\n",
        "plt.xlim([0.0, 1.0])\n",
        "plt.ylim([0.0, 1.05])\n",
        "plt.xlabel('False Positive Rate')\n",
        "plt.ylabel('True Positive Rate')\n",
        "plt.title('ROC Curve for each class')\n",
        "plt.legend(loc='lower right')\n",
        "plt.show()"
      ],
      "metadata": {
        "colab": {
          "base_uri": "https://localhost:8080/",
          "height": 641
        },
        "id": "R7oZTbqQc0MP",
        "outputId": "036be5f4-723d-451b-dc06-4c72bd50ee7e"
      },
      "execution_count": null,
      "outputs": [
        {
          "output_type": "display_data",
          "data": {
            "text/plain": [
              "<Figure size 1000x700 with 1 Axes>"
            ],
            "image/png": "[encoded data removed]"
          },
          "metadata": {}
        }
      ]
    },
    {
      "cell_type": "code",
      "source": [
        "\n",
        "import numpy as np\n",
        "import pickle\n",
        "import librosa\n",
        "\n",
        "# Function to load and preprocess an audio file\n",
        "def preprocess_audio(file_path):\n",
        "    data, sample_rate = librosa.load(file_path, duration=2.5, offset=0.6)\n",
        "    feature = extract_features(data)\n",
        "    feature = scaler.transform([feature])\n",
        "    feature = np.expand_dims(feature, axis=2)\n",
        "    return feature\n",
        "\n",
        "\n",
        "# Load the encoder and scaler\n",
        "with open(os.path.join(drive_path, 'encoder.pkl'), 'rb') as f:\n",
        "    encoder = pickle.load(f)\n",
        "with open(os.path.join(drive_path, 'scaler.pkl'), 'rb') as f:\n",
        "    scaler = pickle.load(f)\n",
        "\n",
        "# Function to predict mugging or not mugging\n",
        "def predict_mugging(file_path):\n",
        "    feature = preprocess_audio(file_path)\n",
        "    prediction = model.predict(feature)\n",
        "    predicted_label = encoder.inverse_transform(prediction)\n",
        "    return predicted_label[0]"
      ],
      "metadata": {
        "id": "vu2DL7EgCbP1"
      },
      "execution_count": null,
      "outputs": []
    },
    {
      "cell_type": "code",
      "source": [
        "# Example usage\n",
        "uploaded_file_path = '/content/drive/MyDrive/TESS/tess toronto emotional speech set data/TESS Toronto emotional speech set data/YAF_happy/YAF_back_happy.wav'\n",
        "prediction = predict_mugging(uploaded_file_path)\n",
        "print(\"Prediction:\", prediction)"
      ],
      "metadata": {
        "colab": {
          "base_uri": "https://localhost:8080/"
        },
        "id": "P8Dwe35RDMPa",
        "outputId": "f42db2b2-72e0-4122-91d0-d0dad8d49809"
      },
      "execution_count": null,
      "outputs": [
        {
          "output_type": "stream",
          "name": "stdout",
          "text": [
            "1/1 [==============================] - 0s 361ms/step\n",
            "Prediction: ['not mugging']\n"
          ]
        }
      ]
    },
    {
      "cell_type": "code",
      "source": [],
      "metadata": {
        "id": "1m7KpguPDS_S"
      },
      "execution_count": null,
      "outputs": []
    }
  ]
}